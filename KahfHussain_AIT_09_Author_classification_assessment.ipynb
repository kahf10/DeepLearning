{
  "nbformat": 4,
  "nbformat_minor": 0,
  "metadata": {
    "kernelspec": {
      "display_name": "Python 3",
      "language": "python",
      "name": "python3"
    },
    "language_info": {
      "codemirror_mode": {
        "name": "ipython",
        "version": 3
      },
      "file_extension": ".py",
      "mimetype": "text/x-python",
      "name": "python",
      "nbconvert_exporter": "python",
      "pygments_lexer": "ipython3",
      "version": "3.6.6"
    },
    "colab": {
      "provenance": [],
      "include_colab_link": true
    }
  },
  "cells": [
    {
      "cell_type": "markdown",
      "metadata": {
        "id": "view-in-github",
        "colab_type": "text"
      },
      "source": [
        "<a href=\"https://colab.research.google.com/github/kahf10/DeepLearning/blob/main/KahfHussain_AIT_09_Author_classification_assessment.ipynb\" target=\"_parent\"><img src=\"https://colab.research.google.com/assets/colab-badge.svg\" alt=\"Open In Colab\"/></a>"
      ]
    },
    {
      "cell_type": "markdown",
      "metadata": {
        "id": "_jiGtJu6u9ml"
      },
      "source": [
        "# Copyright\n",
        "\n",
        "<PRE>\n",
        "Copyright (c) 2023 Bálint Gyires-Tóth - All Rights Reserved\n",
        "You may use and modify this code for research and development purpuses.\n",
        "Use this code for educational purposes (self-paced or instructor led) without the permission of the author is prohibited.\n",
        "</PRE>"
      ]
    },
    {
      "cell_type": "markdown",
      "metadata": {
        "id": "oXyFC44jV-PP"
      },
      "source": [
        "# Author classification\n",
        "The task is to train a 1D CNN or an LSTM that is able to  classify text from two authors. The final model should be able to tell about a text with a given length (e.g. 60 characters) who wrote it. \n",
        "\n",
        "Please write the codes according to the following parts:"
      ]
    },
    {
      "cell_type": "markdown",
      "metadata": {
        "id": "jCnLoeGrHXsp"
      },
      "source": [
        "## Python module imports\n",
        "Import all Python modules that you would need during the Assignment."
      ]
    },
    {
      "cell_type": "code",
      "metadata": {
        "id": "7itbFGt3HXVT"
      },
      "source": [
        "from keras.models import Sequential\n",
        "from keras.layers import Dense, Activation, Dropout\n",
        "from keras.layers import LSTM, Dense, Conv1D, MaxPooling1D, Dropout\n",
        "from keras.optimizers import RMSprop\n",
        "from urllib.request import urlretrieve \n",
        "from keras.utils import to_categorical\n",
        "import seaborn as sns\n",
        "import numpy as np\n",
        "import random\n",
        "import sys\n",
        "import re, cgi"
      ],
      "execution_count": 68,
      "outputs": []
    },
    {
      "cell_type": "markdown",
      "metadata": {
        "id": "Hr617tEpHd8R"
      },
      "source": [
        "## Data acquisition\n",
        "Seek a possible dataset, you can use any source, e.g.\n",
        "* http://www.gutenberg.org/\n",
        "* https://www.kaggle.com/datasets\n",
        "* https://paperswithcode.com/datasets\n",
        "* if you would like to learn Hungarian, than e.g. https://mek.oszk.hu/\n",
        "\n",
        "You can download the text by hand (e.g. by copy-pasting some parts into txt files) or with Python. "
      ]
    },
    {
      "cell_type": "code",
      "metadata": {
        "id": "NgkdQxHqHdZB",
        "colab": {
          "base_uri": "https://localhost:8080/"
        },
        "outputId": "e460e3eb-459a-4f1f-aca9-c2e9f6b5a248"
      },
      "source": [
        "url1 = 'https://www.gutenberg.org/cache/epub/11/pg11.txt' #Alice Adventures in Wonderland\n",
        "url2 = 'https://www.gutenberg.org/cache/epub/2542/pg2542.txt' #A doll's house\n",
        "\n",
        "urlretrieve(url1, 'book1.txt')\n",
        "urlretrieve(url2, 'book2.txt')\n",
        "\n",
        "text1 = open(\"book1.txt\", encoding='utf-8').read().lower()\n",
        "text2 = open(\"book2.txt\", encoding='utf-8').read().lower()\n",
        "\n",
        "print(len(text1), len(text2)) # Difference between the length of the two books. "
      ],
      "execution_count": 43,
      "outputs": [
        {
          "output_type": "stream",
          "name": "stdout",
          "text": [
            "164016 161402\n"
          ]
        }
      ]
    },
    {
      "cell_type": "markdown",
      "source": [
        "## Data analysis\n",
        "Count the number of characters from both authors and display them on a plot (e.g. Seaborn's countplot)."
      ],
      "metadata": {
        "id": "U9Pmq91t3SRD"
      }
    },
    {
      "cell_type": "code",
      "source": [
        "x_data = ['Author 1', 'Author 2']\n",
        "y_data = [len(text1), len(text2)]\n",
        "\n",
        "sns.barplot(x=x_data, y=y_data)\n",
        "plt.show()"
      ],
      "metadata": {
        "id": "uRqGdn4F3Spk",
        "colab": {
          "base_uri": "https://localhost:8080/",
          "height": 430
        },
        "outputId": "da25ded9-c955-480a-dc43-363bd0c4df09"
      },
      "execution_count": 44,
      "outputs": [
        {
          "output_type": "display_data",
          "data": {
            "text/plain": [
              "<Figure size 640x480 with 1 Axes>"
            ],
            "image/png": "[encoded data removed]"
          },
          "metadata": {}
        }
      ]
    },
    {
      "cell_type": "markdown",
      "metadata": {
        "id": "cHyE_ndGIblJ"
      },
      "source": [
        "## Data loading, labeling and preprocessing\n",
        "Load the data and convert the characters into one-hot encodings. Then load the data into a 3D NumPy array, with a shape of\n",
        "\n",
        "* (batch, sequence_length, alphabet_length)\n",
        "\n",
        "where sequence_length=60, and alphabet_length equals to the number of unique characters in both datasets. The sequences should be cut out from the complete dataset by sliding window. You should add 0 and 1 labels to the sequences, according to the author. \n",
        "\n",
        "Later you may change sequence_length to achieve better results!"
      ]
    },
    {
      "cell_type": "code",
      "metadata": {
        "id": "arooXt0WIb6x",
        "colab": {
          "base_uri": "https://localhost:8080/"
        },
        "outputId": "bb6a4b2c-bd71-4711-9054-cadb42b8e5aa"
      },
      "source": [
        "combined_text = text1 + text2 # Combining the two texts \n",
        "unique_chars = sorted(list(set(combined_text))) # Finding the unique characters\n",
        "\n",
        "#Mapping unique characters to integers\n",
        "char_to_int = {} \n",
        "for i, c in enumerate(unique_chars): #Dictionary Mapping \n",
        "    char_to_int[c] = i \n",
        "\n",
        "# Generating sequences and assigning labels \n",
        "sequenceLength = 60 # As given in the problem \n",
        "sequences = []\n",
        "labels = []\n",
        "\n",
        "for i in range(0, len(combined_text) - sequenceLength, 10):\n",
        "    seq = combined_text[i:i+sequenceLength]\n",
        "    label = 0 if i < len(text1) else 1 # Determine the label based on whether the sequence comes from text1 or text2\n",
        "    seq_int = [char_to_int[char] for char in seq] # Convert the sequence of characters to a sequence of integer indices using char_to_int dictionary\n",
        "    sequences.append(seq_int)\n",
        "    labels.append(label)\n",
        "\n",
        "sequences = np.array(sequences) #Converting list of sequences to a numpy array\n",
        "labels = to_categorical(labels) #Preparing labels to be converted to one-hot encodings\n",
        "\n",
        "#Converting characters to one-hot encodings \n",
        "alphabet_length = len(unique_chars)\n",
        "one_hot_sequences = np.zeros((len(sequences), sequenceLength, alphabet_length), dtype=np.bool)\n",
        "for i, sequence in enumerate(sequences):\n",
        "    for t, char in enumerate(sequence):\n",
        "        one_hot_sequences[i, t, char] = 1  "
      ],
      "execution_count": 49,
      "outputs": [
        {
          "output_type": "stream",
          "name": "stderr",
          "text": [
            "<ipython-input-49-ed9860d0a66a>:26: DeprecationWarning: `np.bool` is a deprecated alias for the builtin `bool`. To silence this warning, use `bool` by itself. Doing this will not modify any behavior and is safe. If you specifically wanted the numpy scalar type, use `np.bool_` here.\n",
            "Deprecated in NumPy 1.20; for more details and guidance: https://numpy.org/devdocs/release/1.20.0-notes.html#deprecations\n",
            "  one_hot_sequences = np.zeros((len(sequences), sequenceLength, alphabet_length), dtype=np.bool)\n"
          ]
        }
      ]
    },
    {
      "cell_type": "markdown",
      "metadata": {
        "id": "lL1Mc8ibHnep"
      },
      "source": [
        "## Data splitting\n",
        "Split the data into train, validate and test sets. Make "
      ]
    },
    {
      "cell_type": "code",
      "metadata": {
        "id": "ELyG9XFUHrkB"
      },
      "source": [
        "X_train, X_test, Y_train, Y_test = train_test_split(one_hot_sequences, labels, test_size=0.2, random_state=42)\n",
        "X_train, X_val, Y_train, Y_val = train_test_split(X_train, Y_train, test_size=0.2, random_state=42)"
      ],
      "execution_count": 69,
      "outputs": []
    },
    {
      "cell_type": "markdown",
      "metadata": {
        "id": "hA8U9tr7HrNQ"
      },
      "source": [
        "## Model definition\n",
        "Define a 1D CNN or an LSTM for the task. Compile the model with the correct loss function."
      ]
    },
    {
      "cell_type": "code",
      "metadata": {
        "id": "BT1V1s4kHuUe"
      },
      "source": [
        "model = Sequential()\n",
        "model.add(Conv1D(filters=32, kernel_size=3, activation='relu', input_shape=(sequenceLength, alphabet_length)))\n",
        "model.add(MaxPooling1D())\n",
        "model.add(Conv1D(filters=64, kernel_size=3, activation='relu'))\n",
        "model.add(MaxPooling1D())\n",
        "model.add(LSTM(units=128, recurrent_dropout=0.2))\n",
        "model.add(Dropout(0.2))\n",
        "model.add(Dense(units=2, activation='softmax'))"
      ],
      "execution_count": 70,
      "outputs": []
    },
    {
      "cell_type": "code",
      "source": [
        "model.compile(loss='binary_crossentropy', optimizer='adam', metrics=['accuracy'])"
      ],
      "metadata": {
        "id": "S0rFvv0UejbK"
      },
      "execution_count": 71,
      "outputs": []
    },
    {
      "cell_type": "code",
      "source": [
        "model.summary()"
      ],
      "metadata": {
        "colab": {
          "base_uri": "https://localhost:8080/"
        },
        "id": "Pc30anf4e0SU",
        "outputId": "784e4752-33f9-4f88-c6f1-5ddeaf8901f2"
      },
      "execution_count": 72,
      "outputs": [
        {
          "output_type": "stream",
          "name": "stdout",
          "text": [
            "Model: \"sequential_3\"\n",
            "_________________________________________________________________\n",
            " Layer (type)                Output Shape              Param #   \n",
            "=================================================================\n",
            " conv1d_4 (Conv1D)           (None, 58, 32)            6176      \n",
            "                                                                 \n",
            " max_pooling1d_4 (MaxPooling  (None, 29, 32)           0         \n",
            " 1D)                                                             \n",
            "                                                                 \n",
            " conv1d_5 (Conv1D)           (None, 27, 64)            6208      \n",
            "                                                                 \n",
            " max_pooling1d_5 (MaxPooling  (None, 13, 64)           0         \n",
            " 1D)                                                             \n",
            "                                                                 \n",
            " lstm_2 (LSTM)               (None, 128)               98816     \n",
            "                                                                 \n",
            " dropout (Dropout)           (None, 128)               0         \n",
            "                                                                 \n",
            " dense_2 (Dense)             (None, 2)                 258       \n",
            "                                                                 \n",
            "=================================================================\n",
            "Total params: 111,458\n",
            "Trainable params: 111,458\n",
            "Non-trainable params: 0\n",
            "_________________________________________________________________\n"
          ]
        }
      ]
    },
    {
      "cell_type": "markdown",
      "metadata": {
        "id": "hWFb-nAMHuAI"
      },
      "source": [
        "## Model training\n",
        "Train the model and apply early stopping."
      ]
    },
    {
      "cell_type": "code",
      "source": [
        "es = EarlyStopping(patience=5, monitor=\"val_loss\")\n",
        "\n",
        "model.fit(X_train, Y_train, \n",
        "          validation_data = (X_val, Y_val),\n",
        "          epochs=12, batch_size=32, \n",
        "          callbacks=[es])"
      ],
      "metadata": {
        "colab": {
          "base_uri": "https://localhost:8080/"
        },
        "id": "pv4XFXYFeisA",
        "outputId": "04d5c919-cb54-4d8d-e818-4b029613bd1d"
      },
      "execution_count": 73,
      "outputs": [
        {
          "output_type": "stream",
          "name": "stdout",
          "text": [
            "Epoch 1/12\n",
            "651/651 [==============================] - 41s 57ms/step - loss: 0.3737 - accuracy: 0.8107 - val_loss: 0.3037 - val_accuracy: 0.8498\n",
            "Epoch 2/12\n",
            "651/651 [==============================] - 32s 50ms/step - loss: 0.2395 - accuracy: 0.8864 - val_loss: 0.2310 - val_accuracy: 0.8947\n",
            "Epoch 3/12\n",
            "651/651 [==============================] - 33s 51ms/step - loss: 0.2119 - accuracy: 0.8971 - val_loss: 0.2081 - val_accuracy: 0.8990\n",
            "Epoch 4/12\n",
            "651/651 [==============================] - 33s 51ms/step - loss: 0.1878 - accuracy: 0.9088 - val_loss: 0.1833 - val_accuracy: 0.9130\n",
            "Epoch 5/12\n",
            "651/651 [==============================] - 34s 52ms/step - loss: 0.1702 - accuracy: 0.9151 - val_loss: 0.1792 - val_accuracy: 0.9116\n",
            "Epoch 6/12\n",
            "651/651 [==============================] - 33s 51ms/step - loss: 0.1505 - accuracy: 0.9229 - val_loss: 0.2023 - val_accuracy: 0.9013\n",
            "Epoch 7/12\n",
            "651/651 [==============================] - 33s 50ms/step - loss: 0.1446 - accuracy: 0.9244 - val_loss: 0.1649 - val_accuracy: 0.9103\n",
            "Epoch 8/12\n",
            "651/651 [==============================] - 32s 49ms/step - loss: 0.1329 - accuracy: 0.9288 - val_loss: 0.2033 - val_accuracy: 0.9018\n",
            "Epoch 9/12\n",
            "651/651 [==============================] - 33s 51ms/step - loss: 0.1282 - accuracy: 0.9321 - val_loss: 0.2007 - val_accuracy: 0.9024\n",
            "Epoch 10/12\n",
            "651/651 [==============================] - 31s 48ms/step - loss: 0.1191 - accuracy: 0.9345 - val_loss: 0.1586 - val_accuracy: 0.9128\n",
            "Epoch 11/12\n",
            "651/651 [==============================] - 34s 52ms/step - loss: 0.1183 - accuracy: 0.9350 - val_loss: 0.1624 - val_accuracy: 0.9153\n",
            "Epoch 12/12\n",
            "651/651 [==============================] - 31s 47ms/step - loss: 0.1097 - accuracy: 0.9402 - val_loss: 0.1520 - val_accuracy: 0.9168\n"
          ]
        },
        {
          "output_type": "execute_result",
          "data": {
            "text/plain": [
              "<keras.callbacks.History at 0x7fe18842e9d0>"
            ]
          },
          "metadata": {},
          "execution_count": 73
        }
      ]
    },
    {
      "cell_type": "markdown",
      "metadata": {
        "id": "0omw2XzSHwOo"
      },
      "source": [
        "## Evaluation on test data\n",
        "Evaluate the model on the test data in terms of loss and accuracy."
      ]
    },
    {
      "cell_type": "code",
      "source": [
        "eval = model.evaluate(X_test,Y_test)\n",
        "print(\"Test loss:\",eval[0])\n",
        "print(\"Test accuracy:\",eval[1])"
      ],
      "metadata": {
        "colab": {
          "base_uri": "https://localhost:8080/"
        },
        "id": "JYoXuvWTgNWH",
        "outputId": "50c06089-c2b6-42a7-b103-57c98ccbe56c"
      },
      "execution_count": 74,
      "outputs": [
        {
          "output_type": "stream",
          "name": "stdout",
          "text": [
            "204/204 [==============================] - 2s 9ms/step - loss: 0.1496 - accuracy: 0.9123\n",
            "Test loss: 0.1495629996061325\n",
            "Test accuracy: 0.9122618436813354\n"
          ]
        }
      ]
    },
    {
      "cell_type": "markdown",
      "metadata": {
        "id": "4Y73Q-h5Hz1r"
      },
      "source": [
        "## Confusion matrix\n",
        "Calculate and display the confusion matrix."
      ]
    },
    {
      "cell_type": "code",
      "metadata": {
        "id": "cW8zZi1uJm2B",
        "colab": {
          "base_uri": "https://localhost:8080/",
          "height": 471
        },
        "outputId": "c4fa894b-ac75-411c-8631-974885ccbea4"
      },
      "source": [
        "from sklearn.metrics import confusion_matrix, classification_report\n",
        "preds = model.predict(X_test)\n",
        "conf=confusion_matrix(np.argmax(Y_test,1),np.argmax(preds,1))\n",
        "sns.heatmap(conf, annot=True, fmt='d', cmap=\"YlGnBu\")"
      ],
      "execution_count": 75,
      "outputs": [
        {
          "output_type": "stream",
          "name": "stdout",
          "text": [
            "204/204 [==============================] - 4s 18ms/step\n"
          ]
        },
        {
          "output_type": "execute_result",
          "data": {
            "text/plain": [
              "<Axes: >"
            ]
          },
          "metadata": {},
          "execution_count": 75
        },
        {
          "output_type": "display_data",
          "data": {
            "text/plain": [
              "<Figure size 640x480 with 2 Axes>"
            ],
            "image/png": "[encoded data removed]"
          },
          "metadata": {}
        }
      ]
    },
    {
      "cell_type": "code",
      "source": [],
      "metadata": {
        "id": "MVVP4heRqLCU"
      },
      "execution_count": null,
      "outputs": []
    }
  ]
}